{
 "cells": [
  {
   "cell_type": "code",
   "execution_count": null,
   "metadata": {},
   "outputs": [],
   "source": [
    "import numpy as np\n",
    "import pandas as pd\n",
    "import matplotlib.pyplot as plt\n",
    "import seaborn as sns\n",
    "import math\n",
    "\n",
    "from sklearn.datasets import fetch_california_housing\n",
    "from sklearn.model_selection import train_test_split\n",
    "from sklearn.linear_model import LinearRegression\n",
    "from sklearn.metrics import mean_absolute_error, mean_squared_error, r2_score"
   ]
  },
  {
   "cell_type": "code",
   "execution_count": null,
   "metadata": {},
   "outputs": [],
   "source": [
    "# data = pd.read_csv(\n",
    "#     \"https://github.com/ageron/handson-ml/raw/refs/heads/master/datasets/housing/housing.csv\")\n",
    "\n",
    "housing = fetch_california_housing()\n",
    "X = pd.DataFrame(data=housing.data, columns=housing.feature_names)\n",
    "y = pd.DataFrame(data=housing.target, columns=housing.target_names)\n",
    "data = pd.concat([X, y], axis=1)"
   ]
  },
  {
   "cell_type": "code",
   "execution_count": null,
   "metadata": {},
   "outputs": [],
   "source": [
    "data.head()"
   ]
  },
  {
   "cell_type": "code",
   "execution_count": null,
   "metadata": {},
   "outputs": [],
   "source": [
    "data.dropna(inplace=True)\n",
    "\n",
    "if \"ocean_proximity\" in data.columns:\n",
    "  data = pd.get_dummies(data, columns=['ocean_proximity'], drop_first=True)  "
   ]
  },
  {
   "cell_type": "code",
   "execution_count": null,
   "metadata": {},
   "outputs": [],
   "source": [
    "data.describe()"
   ]
  },
  {
   "cell_type": "code",
   "execution_count": null,
   "metadata": {},
   "outputs": [],
   "source": [
    "plt.figure(figsize=(9, 7))\n",
    "sns.heatmap(data.corr(), annot=True, cmap='coolwarm', fmt=\".2f\")\n",
    "plt.show()"
   ]
  },
  {
   "cell_type": "code",
   "execution_count": null,
   "metadata": {},
   "outputs": [],
   "source": [
    "data.hist(figsize=(15, 10), bins=50)\n",
    "plt.show()"
   ]
  },
  {
   "cell_type": "code",
   "execution_count": null,
   "metadata": {},
   "outputs": [],
   "source": [
    "boxdata = data.drop(columns=data.filter(like=\"ocean_proximity\").columns)\n",
    "nFeatures = len(boxdata.columns)\n",
    "rows = math.ceil(nFeatures / 3)\n",
    "cols = min(3, nFeatures)\n",
    "\n",
    "fig, axes = plt.subplots(nrows=rows, ncols=cols, figsize=(15, 5 * rows))\n",
    "axes = axes.flatten() if rows > 1 else [axes]\n",
    "\n",
    "for i, col in enumerate(boxdata.columns):\n",
    "  sns.boxplot(boxdata[col], ax=axes[i])\n",
    "  axes[i].set_title(f'Boxplot of {col}')\n",
    "  axes[i].set_xlabel(col)\n",
    "\n",
    "plt.show()"
   ]
  },
  {
   "cell_type": "code",
   "execution_count": null,
   "metadata": {},
   "outputs": [],
   "source": [
    "if \"X\" not in locals() or \"y\" not in locals(): \n",
    "  X = data.drop(columns=[\"median_house_value\"])\n",
    "  y = data['median_house_value']\n",
    "\n",
    "\n",
    "XTrain, XTest, yTrain, yTest = train_test_split(\n",
    "    X, y, test_size=0.2, random_state=0)"
   ]
  },
  {
   "cell_type": "code",
   "execution_count": null,
   "metadata": {},
   "outputs": [],
   "source": [
    "model = LinearRegression()\n",
    "model.fit(XTrain, yTrain)\n",
    "\n",
    "print(\"Model Params:\")\n",
    "print(model.coef_)\n",
    "print(model.intercept_)"
   ]
  },
  {
   "cell_type": "code",
   "execution_count": null,
   "metadata": {},
   "outputs": [],
   "source": [
    "yPred = model.predict(XTest)\n",
    "\n",
    "mae = mean_absolute_error(yTest, yPred)\n",
    "mse = mean_squared_error(yTest, yPred)\n",
    "r2 = r2_score(yTest, yPred)\n",
    "\n",
    "print(\"Model Metrics:\")\n",
    "print(f\" Mean Absolute Error (MAE): {mae}\")\n",
    "print(f\" Mean Squared Error (MSE): {mse}\")\n",
    "print(f\" R-Squared Score: {r2}\")"
   ]
  },
  {
   "cell_type": "code",
   "execution_count": null,
   "metadata": {},
   "outputs": [],
   "source": [
    "plt.figure(figsize=(8, 5))\n",
    "plt.scatter(x=yTest, y=yPred, alpha=0.3, s=20, linewidth=0)\n",
    "plt.xlabel('Actual House Value')\n",
    "plt.ylabel('Predicted House Value')\n",
    "plt.title('Actual vs. Predicted House Prices')\n",
    "plt.show()"
   ]
  }
 ],
 "metadata": {
  "kernelspec": {
   "display_name": ".venv (3.11.11)",
   "language": "python",
   "name": "python3"
  },
  "language_info": {
   "codemirror_mode": {
    "name": "ipython",
    "version": 3
   },
   "file_extension": ".py",
   "mimetype": "text/x-python",
   "name": "python",
   "nbconvert_exporter": "python",
   "pygments_lexer": "ipython3",
   "version": "3.11.11"
  }
 },
 "nbformat": 4,
 "nbformat_minor": 2
}
