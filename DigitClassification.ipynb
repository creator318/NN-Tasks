{
 "cells": [
  {
   "cell_type": "code",
   "execution_count": null,
   "metadata": {},
   "outputs": [],
   "source": [
    "! source /opt/intel/oneapi/setvars.sh >/dev/null\n",
    "\n",
    "import tensorflow as tf\n",
    "from keras import datasets, Sequential, layers, activations, optimizers, losses, metrics\n",
    "import seaborn as sns\n",
    "import matplotlib.pyplot as plt\n",
    "\n",
    "from sklearn.metrics import confusion_matrix"
   ]
  },
  {
   "cell_type": "code",
   "execution_count": null,
   "metadata": {},
   "outputs": [],
   "source": [
    "(XTrain, yTrain), (XTest, yTest) = datasets.mnist.load_data()\n",
    "\n",
    "XTrain, XTest = XTrain / 255, XTest / 255.0\\\n",
    "  \n",
    "XTrain.shape, yTrain.shape, XTest.shape, yTest.shape"
   ]
  },
  {
   "cell_type": "code",
   "execution_count": null,
   "metadata": {},
   "outputs": [],
   "source": [
    "model = Sequential([\n",
    "    layers.Input((28, 28)),\n",
    "    layers.Flatten(),\n",
    "    layers.Dense(256, activation=activations.relu),\n",
    "    layers.Dense(128, activation=activations.relu),\n",
    "    layers.Dense(10, activation=activations.softmax)\n",
    "])\n",
    "\n",
    "model.compile(optimizer=optimizers.Adam(), loss=losses.SparseCategoricalCrossentropy(),\n",
    "              metrics=[metrics.SparseCategoricalAccuracy()])\n",
    "\n",
    "_ = model.fit(XTrain, yTrain, epochs=10)"
   ]
  },
  {
   "cell_type": "code",
   "execution_count": null,
   "metadata": {},
   "outputs": [],
   "source": [
    "yPred = tf.argmax(model.predict(XTest), axis=1)"
   ]
  },
  {
   "cell_type": "code",
   "execution_count": null,
   "metadata": {},
   "outputs": [],
   "source": [
    "heatMap = sns.heatmap(\n",
    "    tf.math.log1p(tf.cast(confusion_matrix(yTest, yPred), tf.float32)),\n",
    "    cmap=plt.cm.coolwarm\n",
    ")\n",
    "heatMap.collections[0].colorbar.set_ticks([])\n",
    "\n",
    "plt.xlabel('Actual Value')\n",
    "plt.ylabel('Predicted Value')\n",
    "plt.title('Actual vs. Predicted Values')\n",
    "plt.show()"
   ]
  }
 ],
 "metadata": {
  "kernelspec": {
   "display_name": ".venv (3.11.11)",
   "language": "python",
   "name": "python3"
  },
  "language_info": {
   "codemirror_mode": {
    "name": "ipython",
    "version": 3
   },
   "file_extension": ".py",
   "mimetype": "text/x-python",
   "name": "python",
   "nbconvert_exporter": "python",
   "pygments_lexer": "ipython3",
   "version": "3.11.11"
  }
 },
 "nbformat": 4,
 "nbformat_minor": 2
}
